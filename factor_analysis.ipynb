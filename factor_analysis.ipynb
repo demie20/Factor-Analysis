{
  "nbformat": 4,
  "nbformat_minor": 0,
  "metadata": {
    "colab": {
      "name": "factor_analysis.ipynb",
      "provenance": [],
      "mount_file_id": "11Er2albNSvsuMU9d3VxjpGK2vHPNPCHz",
      "authorship_tag": "ABX9TyOiER3AeDFgaVwqmW2+1K5w",
      "include_colab_link": true
    },
    "kernelspec": {
      "name": "python3",
      "display_name": "Python 3"
    },
    "language_info": {
      "name": "python"
    }
  },
  "cells": [
    {
      "cell_type": "markdown",
      "metadata": {
        "id": "view-in-github",
        "colab_type": "text"
      },
      "source": [
        "<a href=\"https://colab.research.google.com/github/demie20/Factor-Analysis/blob/main/factor_analysis.ipynb\" target=\"_parent\"><img src=\"https://colab.research.google.com/assets/colab-badge.svg\" alt=\"Open In Colab\"/></a>"
      ]
    },
    {
      "cell_type": "code",
      "metadata": {
        "id": "Y5wufSRhqdQp",
        "colab": {
          "base_uri": "https://localhost:8080/"
        },
        "outputId": "94697637-d033-4718-f333-9bc7078160a3"
      },
      "source": [
        "pip install factor_analyzer"
      ],
      "execution_count": null,
      "outputs": [
        {
          "output_type": "stream",
          "name": "stdout",
          "text": [
            "Collecting factor_analyzer\n",
            "  Downloading factor_analyzer-0.4.0.tar.gz (41 kB)\n",
            "\u001b[?25l\r\u001b[K     |███████▉                        | 10 kB 20.9 MB/s eta 0:00:01\r\u001b[K     |███████████████▊                | 20 kB 27.0 MB/s eta 0:00:01\r\u001b[K     |███████████████████████▋        | 30 kB 12.8 MB/s eta 0:00:01\r\u001b[K     |███████████████████████████████▌| 40 kB 9.8 MB/s eta 0:00:01\r\u001b[K     |████████████████████████████████| 41 kB 279 kB/s \n",
            "\u001b[?25hRequirement already satisfied: pandas in /usr/local/lib/python3.7/dist-packages (from factor_analyzer) (1.1.5)\n",
            "Requirement already satisfied: scipy in /usr/local/lib/python3.7/dist-packages (from factor_analyzer) (1.4.1)\n",
            "Requirement already satisfied: numpy in /usr/local/lib/python3.7/dist-packages (from factor_analyzer) (1.19.5)\n",
            "Requirement already satisfied: scikit-learn in /usr/local/lib/python3.7/dist-packages (from factor_analyzer) (0.22.2.post1)\n",
            "Requirement already satisfied: pytz>=2017.2 in /usr/local/lib/python3.7/dist-packages (from pandas->factor_analyzer) (2018.9)\n",
            "Requirement already satisfied: python-dateutil>=2.7.3 in /usr/local/lib/python3.7/dist-packages (from pandas->factor_analyzer) (2.8.2)\n",
            "Requirement already satisfied: six>=1.5 in /usr/local/lib/python3.7/dist-packages (from python-dateutil>=2.7.3->pandas->factor_analyzer) (1.15.0)\n",
            "Requirement already satisfied: joblib>=0.11 in /usr/local/lib/python3.7/dist-packages (from scikit-learn->factor_analyzer) (1.1.0)\n",
            "Building wheels for collected packages: factor-analyzer\n",
            "  Building wheel for factor-analyzer (setup.py) ... \u001b[?25l\u001b[?25hdone\n",
            "  Created wheel for factor-analyzer: filename=factor_analyzer-0.4.0-py3-none-any.whl size=41455 sha256=ac62638da19942da96694fcc97f59294c07720ed44943cf81174c0a6c7e49bdc\n",
            "  Stored in directory: /root/.cache/pip/wheels/ac/00/37/1f0e8a5039f9e9f207c4405bbce0796f07701eb377bfc6cc76\n",
            "Successfully built factor-analyzer\n",
            "Installing collected packages: factor-analyzer\n",
            "Successfully installed factor-analyzer-0.4.0\n"
          ]
        }
      ]
    },
    {
      "cell_type": "code",
      "metadata": {
        "id": "d7qDmxlEv2Ci"
      },
      "source": [
        "import pandas as pd\n",
        "from sklearn.datasets import load_iris\n",
        "from factor_analyzer import FactorAnalyzer\n",
        "import matplotlib.pyplot as plt"
      ],
      "execution_count": null,
      "outputs": []
    },
    {
      "cell_type": "code",
      "metadata": {
        "id": "_Pa7T65Pv73Q"
      },
      "source": [
        "df= pd.read_csv(\"/bfi.csv\")"
      ],
      "execution_count": null,
      "outputs": []
    },
    {
      "cell_type": "code",
      "metadata": {
        "colab": {
          "base_uri": "https://localhost:8080/",
          "height": 805
        },
        "id": "QH0XsxbXwukA",
        "outputId": "e048a9c9-895e-4064-c955-8bc062501bd2"
      },
      "source": [
        "df.columns\n",
        "df.drop(['gender','education','age'],axis=1,inplace=True)\n",
        "df.dropna(inplace=True)\n",
        "df.info()\n",
        "df.head()"
      ],
      "execution_count": null,
      "outputs": [
        {
          "output_type": "stream",
          "name": "stdout",
          "text": [
            "<class 'pandas.core.frame.DataFrame'>\n",
            "Int64Index: 2436 entries, 0 to 2799\n",
            "Data columns (total 26 columns):\n",
            " #   Column      Non-Null Count  Dtype  \n",
            "---  ------      --------------  -----  \n",
            " 0   Unnamed: 0  2436 non-null   int64  \n",
            " 1   A1          2436 non-null   float64\n",
            " 2   A2          2436 non-null   float64\n",
            " 3   A3          2436 non-null   float64\n",
            " 4   A4          2436 non-null   float64\n",
            " 5   A5          2436 non-null   float64\n",
            " 6   C1          2436 non-null   float64\n",
            " 7   C2          2436 non-null   float64\n",
            " 8   C3          2436 non-null   float64\n",
            " 9   C4          2436 non-null   float64\n",
            " 10  C5          2436 non-null   float64\n",
            " 11  E1          2436 non-null   float64\n",
            " 12  E2          2436 non-null   float64\n",
            " 13  E3          2436 non-null   float64\n",
            " 14  E4          2436 non-null   float64\n",
            " 15  E5          2436 non-null   float64\n",
            " 16  N1          2436 non-null   float64\n",
            " 17  N2          2436 non-null   float64\n",
            " 18  N3          2436 non-null   float64\n",
            " 19  N4          2436 non-null   float64\n",
            " 20  N5          2436 non-null   float64\n",
            " 21  O1          2436 non-null   float64\n",
            " 22  O2          2436 non-null   int64  \n",
            " 23  O3          2436 non-null   float64\n",
            " 24  O4          2436 non-null   float64\n",
            " 25  O5          2436 non-null   float64\n",
            "dtypes: float64(24), int64(2)\n",
            "memory usage: 513.8 KB\n"
          ]
        },
        {
          "output_type": "execute_result",
          "data": {
            "text/html": [
              "<div>\n",
              "<style scoped>\n",
              "    .dataframe tbody tr th:only-of-type {\n",
              "        vertical-align: middle;\n",
              "    }\n",
              "\n",
              "    .dataframe tbody tr th {\n",
              "        vertical-align: top;\n",
              "    }\n",
              "\n",
              "    .dataframe thead th {\n",
              "        text-align: right;\n",
              "    }\n",
              "</style>\n",
              "<table border=\"1\" class=\"dataframe\">\n",
              "  <thead>\n",
              "    <tr style=\"text-align: right;\">\n",
              "      <th></th>\n",
              "      <th>Unnamed: 0</th>\n",
              "      <th>A1</th>\n",
              "      <th>A2</th>\n",
              "      <th>A3</th>\n",
              "      <th>A4</th>\n",
              "      <th>A5</th>\n",
              "      <th>C1</th>\n",
              "      <th>C2</th>\n",
              "      <th>C3</th>\n",
              "      <th>C4</th>\n",
              "      <th>C5</th>\n",
              "      <th>E1</th>\n",
              "      <th>E2</th>\n",
              "      <th>E3</th>\n",
              "      <th>E4</th>\n",
              "      <th>E5</th>\n",
              "      <th>N1</th>\n",
              "      <th>N2</th>\n",
              "      <th>N3</th>\n",
              "      <th>N4</th>\n",
              "      <th>N5</th>\n",
              "      <th>O1</th>\n",
              "      <th>O2</th>\n",
              "      <th>O3</th>\n",
              "      <th>O4</th>\n",
              "      <th>O5</th>\n",
              "    </tr>\n",
              "  </thead>\n",
              "  <tbody>\n",
              "    <tr>\n",
              "      <th>0</th>\n",
              "      <td>61617</td>\n",
              "      <td>2.0</td>\n",
              "      <td>4.0</td>\n",
              "      <td>3.0</td>\n",
              "      <td>4.0</td>\n",
              "      <td>4.0</td>\n",
              "      <td>2.0</td>\n",
              "      <td>3.0</td>\n",
              "      <td>3.0</td>\n",
              "      <td>4.0</td>\n",
              "      <td>4.0</td>\n",
              "      <td>3.0</td>\n",
              "      <td>3.0</td>\n",
              "      <td>3.0</td>\n",
              "      <td>4.0</td>\n",
              "      <td>4.0</td>\n",
              "      <td>3.0</td>\n",
              "      <td>4.0</td>\n",
              "      <td>2.0</td>\n",
              "      <td>2.0</td>\n",
              "      <td>3.0</td>\n",
              "      <td>3.0</td>\n",
              "      <td>6</td>\n",
              "      <td>3.0</td>\n",
              "      <td>4.0</td>\n",
              "      <td>3.0</td>\n",
              "    </tr>\n",
              "    <tr>\n",
              "      <th>1</th>\n",
              "      <td>61618</td>\n",
              "      <td>2.0</td>\n",
              "      <td>4.0</td>\n",
              "      <td>5.0</td>\n",
              "      <td>2.0</td>\n",
              "      <td>5.0</td>\n",
              "      <td>5.0</td>\n",
              "      <td>4.0</td>\n",
              "      <td>4.0</td>\n",
              "      <td>3.0</td>\n",
              "      <td>4.0</td>\n",
              "      <td>1.0</td>\n",
              "      <td>1.0</td>\n",
              "      <td>6.0</td>\n",
              "      <td>4.0</td>\n",
              "      <td>3.0</td>\n",
              "      <td>3.0</td>\n",
              "      <td>3.0</td>\n",
              "      <td>3.0</td>\n",
              "      <td>5.0</td>\n",
              "      <td>5.0</td>\n",
              "      <td>4.0</td>\n",
              "      <td>2</td>\n",
              "      <td>4.0</td>\n",
              "      <td>3.0</td>\n",
              "      <td>3.0</td>\n",
              "    </tr>\n",
              "    <tr>\n",
              "      <th>2</th>\n",
              "      <td>61620</td>\n",
              "      <td>5.0</td>\n",
              "      <td>4.0</td>\n",
              "      <td>5.0</td>\n",
              "      <td>4.0</td>\n",
              "      <td>4.0</td>\n",
              "      <td>4.0</td>\n",
              "      <td>5.0</td>\n",
              "      <td>4.0</td>\n",
              "      <td>2.0</td>\n",
              "      <td>5.0</td>\n",
              "      <td>2.0</td>\n",
              "      <td>4.0</td>\n",
              "      <td>4.0</td>\n",
              "      <td>4.0</td>\n",
              "      <td>5.0</td>\n",
              "      <td>4.0</td>\n",
              "      <td>5.0</td>\n",
              "      <td>4.0</td>\n",
              "      <td>2.0</td>\n",
              "      <td>3.0</td>\n",
              "      <td>4.0</td>\n",
              "      <td>2</td>\n",
              "      <td>5.0</td>\n",
              "      <td>5.0</td>\n",
              "      <td>2.0</td>\n",
              "    </tr>\n",
              "    <tr>\n",
              "      <th>3</th>\n",
              "      <td>61621</td>\n",
              "      <td>4.0</td>\n",
              "      <td>4.0</td>\n",
              "      <td>6.0</td>\n",
              "      <td>5.0</td>\n",
              "      <td>5.0</td>\n",
              "      <td>4.0</td>\n",
              "      <td>4.0</td>\n",
              "      <td>3.0</td>\n",
              "      <td>5.0</td>\n",
              "      <td>5.0</td>\n",
              "      <td>5.0</td>\n",
              "      <td>3.0</td>\n",
              "      <td>4.0</td>\n",
              "      <td>4.0</td>\n",
              "      <td>4.0</td>\n",
              "      <td>2.0</td>\n",
              "      <td>5.0</td>\n",
              "      <td>2.0</td>\n",
              "      <td>4.0</td>\n",
              "      <td>1.0</td>\n",
              "      <td>3.0</td>\n",
              "      <td>3</td>\n",
              "      <td>4.0</td>\n",
              "      <td>3.0</td>\n",
              "      <td>5.0</td>\n",
              "    </tr>\n",
              "    <tr>\n",
              "      <th>4</th>\n",
              "      <td>61622</td>\n",
              "      <td>2.0</td>\n",
              "      <td>3.0</td>\n",
              "      <td>3.0</td>\n",
              "      <td>4.0</td>\n",
              "      <td>5.0</td>\n",
              "      <td>4.0</td>\n",
              "      <td>4.0</td>\n",
              "      <td>5.0</td>\n",
              "      <td>3.0</td>\n",
              "      <td>2.0</td>\n",
              "      <td>2.0</td>\n",
              "      <td>2.0</td>\n",
              "      <td>5.0</td>\n",
              "      <td>4.0</td>\n",
              "      <td>5.0</td>\n",
              "      <td>2.0</td>\n",
              "      <td>3.0</td>\n",
              "      <td>4.0</td>\n",
              "      <td>4.0</td>\n",
              "      <td>3.0</td>\n",
              "      <td>3.0</td>\n",
              "      <td>3</td>\n",
              "      <td>4.0</td>\n",
              "      <td>3.0</td>\n",
              "      <td>3.0</td>\n",
              "    </tr>\n",
              "  </tbody>\n",
              "</table>\n",
              "</div>"
            ],
            "text/plain": [
              "   Unnamed: 0   A1   A2   A3   A4   A5   C1  ...   N4   N5   O1  O2   O3   O4   O5\n",
              "0       61617  2.0  4.0  3.0  4.0  4.0  2.0  ...  2.0  3.0  3.0   6  3.0  4.0  3.0\n",
              "1       61618  2.0  4.0  5.0  2.0  5.0  5.0  ...  5.0  5.0  4.0   2  4.0  3.0  3.0\n",
              "2       61620  5.0  4.0  5.0  4.0  4.0  4.0  ...  2.0  3.0  4.0   2  5.0  5.0  2.0\n",
              "3       61621  4.0  4.0  6.0  5.0  5.0  4.0  ...  4.0  1.0  3.0   3  4.0  3.0  5.0\n",
              "4       61622  2.0  3.0  3.0  4.0  5.0  4.0  ...  4.0  3.0  3.0   3  4.0  3.0  3.0\n",
              "\n",
              "[5 rows x 26 columns]"
            ]
          },
          "metadata": {},
          "execution_count": 6
        }
      ]
    },
    {
      "cell_type": "code",
      "metadata": {
        "colab": {
          "base_uri": "https://localhost:8080/"
        },
        "id": "OGj3kZO0w1AX",
        "outputId": "4d32be01-0ab4-4b91-ecab-c455a5e9736b"
      },
      "source": [
        "df.info()"
      ],
      "execution_count": null,
      "outputs": [
        {
          "output_type": "stream",
          "name": "stdout",
          "text": [
            "<class 'pandas.core.frame.DataFrame'>\n",
            "Int64Index: 2436 entries, 0 to 2799\n",
            "Data columns (total 26 columns):\n",
            " #   Column      Non-Null Count  Dtype  \n",
            "---  ------      --------------  -----  \n",
            " 0   Unnamed: 0  2436 non-null   int64  \n",
            " 1   A1          2436 non-null   float64\n",
            " 2   A2          2436 non-null   float64\n",
            " 3   A3          2436 non-null   float64\n",
            " 4   A4          2436 non-null   float64\n",
            " 5   A5          2436 non-null   float64\n",
            " 6   C1          2436 non-null   float64\n",
            " 7   C2          2436 non-null   float64\n",
            " 8   C3          2436 non-null   float64\n",
            " 9   C4          2436 non-null   float64\n",
            " 10  C5          2436 non-null   float64\n",
            " 11  E1          2436 non-null   float64\n",
            " 12  E2          2436 non-null   float64\n",
            " 13  E3          2436 non-null   float64\n",
            " 14  E4          2436 non-null   float64\n",
            " 15  E5          2436 non-null   float64\n",
            " 16  N1          2436 non-null   float64\n",
            " 17  N2          2436 non-null   float64\n",
            " 18  N3          2436 non-null   float64\n",
            " 19  N4          2436 non-null   float64\n",
            " 20  N5          2436 non-null   float64\n",
            " 21  O1          2436 non-null   float64\n",
            " 22  O2          2436 non-null   int64  \n",
            " 23  O3          2436 non-null   float64\n",
            " 24  O4          2436 non-null   float64\n",
            " 25  O5          2436 non-null   float64\n",
            "dtypes: float64(24), int64(2)\n",
            "memory usage: 513.8 KB\n"
          ]
        }
      ]
    },
    {
      "cell_type": "code",
      "metadata": {
        "colab": {
          "base_uri": "https://localhost:8080/",
          "height": 205
        },
        "id": "rCg8a-RdxRc2",
        "outputId": "7137514e-2f62-43b5-8e34-53d7d4eb7b3a"
      },
      "source": [
        "df.head()"
      ],
      "execution_count": null,
      "outputs": [
        {
          "output_type": "execute_result",
          "data": {
            "text/html": [
              "<div>\n",
              "<style scoped>\n",
              "    .dataframe tbody tr th:only-of-type {\n",
              "        vertical-align: middle;\n",
              "    }\n",
              "\n",
              "    .dataframe tbody tr th {\n",
              "        vertical-align: top;\n",
              "    }\n",
              "\n",
              "    .dataframe thead th {\n",
              "        text-align: right;\n",
              "    }\n",
              "</style>\n",
              "<table border=\"1\" class=\"dataframe\">\n",
              "  <thead>\n",
              "    <tr style=\"text-align: right;\">\n",
              "      <th></th>\n",
              "      <th>Unnamed: 0</th>\n",
              "      <th>A1</th>\n",
              "      <th>A2</th>\n",
              "      <th>A3</th>\n",
              "      <th>A4</th>\n",
              "      <th>A5</th>\n",
              "      <th>C1</th>\n",
              "      <th>C2</th>\n",
              "      <th>C3</th>\n",
              "      <th>C4</th>\n",
              "      <th>C5</th>\n",
              "      <th>E1</th>\n",
              "      <th>E2</th>\n",
              "      <th>E3</th>\n",
              "      <th>E4</th>\n",
              "      <th>E5</th>\n",
              "      <th>N1</th>\n",
              "      <th>N2</th>\n",
              "      <th>N3</th>\n",
              "      <th>N4</th>\n",
              "      <th>N5</th>\n",
              "      <th>O1</th>\n",
              "      <th>O2</th>\n",
              "      <th>O3</th>\n",
              "      <th>O4</th>\n",
              "      <th>O5</th>\n",
              "    </tr>\n",
              "  </thead>\n",
              "  <tbody>\n",
              "    <tr>\n",
              "      <th>0</th>\n",
              "      <td>61617</td>\n",
              "      <td>2.0</td>\n",
              "      <td>4.0</td>\n",
              "      <td>3.0</td>\n",
              "      <td>4.0</td>\n",
              "      <td>4.0</td>\n",
              "      <td>2.0</td>\n",
              "      <td>3.0</td>\n",
              "      <td>3.0</td>\n",
              "      <td>4.0</td>\n",
              "      <td>4.0</td>\n",
              "      <td>3.0</td>\n",
              "      <td>3.0</td>\n",
              "      <td>3.0</td>\n",
              "      <td>4.0</td>\n",
              "      <td>4.0</td>\n",
              "      <td>3.0</td>\n",
              "      <td>4.0</td>\n",
              "      <td>2.0</td>\n",
              "      <td>2.0</td>\n",
              "      <td>3.0</td>\n",
              "      <td>3.0</td>\n",
              "      <td>6</td>\n",
              "      <td>3.0</td>\n",
              "      <td>4.0</td>\n",
              "      <td>3.0</td>\n",
              "    </tr>\n",
              "    <tr>\n",
              "      <th>1</th>\n",
              "      <td>61618</td>\n",
              "      <td>2.0</td>\n",
              "      <td>4.0</td>\n",
              "      <td>5.0</td>\n",
              "      <td>2.0</td>\n",
              "      <td>5.0</td>\n",
              "      <td>5.0</td>\n",
              "      <td>4.0</td>\n",
              "      <td>4.0</td>\n",
              "      <td>3.0</td>\n",
              "      <td>4.0</td>\n",
              "      <td>1.0</td>\n",
              "      <td>1.0</td>\n",
              "      <td>6.0</td>\n",
              "      <td>4.0</td>\n",
              "      <td>3.0</td>\n",
              "      <td>3.0</td>\n",
              "      <td>3.0</td>\n",
              "      <td>3.0</td>\n",
              "      <td>5.0</td>\n",
              "      <td>5.0</td>\n",
              "      <td>4.0</td>\n",
              "      <td>2</td>\n",
              "      <td>4.0</td>\n",
              "      <td>3.0</td>\n",
              "      <td>3.0</td>\n",
              "    </tr>\n",
              "    <tr>\n",
              "      <th>2</th>\n",
              "      <td>61620</td>\n",
              "      <td>5.0</td>\n",
              "      <td>4.0</td>\n",
              "      <td>5.0</td>\n",
              "      <td>4.0</td>\n",
              "      <td>4.0</td>\n",
              "      <td>4.0</td>\n",
              "      <td>5.0</td>\n",
              "      <td>4.0</td>\n",
              "      <td>2.0</td>\n",
              "      <td>5.0</td>\n",
              "      <td>2.0</td>\n",
              "      <td>4.0</td>\n",
              "      <td>4.0</td>\n",
              "      <td>4.0</td>\n",
              "      <td>5.0</td>\n",
              "      <td>4.0</td>\n",
              "      <td>5.0</td>\n",
              "      <td>4.0</td>\n",
              "      <td>2.0</td>\n",
              "      <td>3.0</td>\n",
              "      <td>4.0</td>\n",
              "      <td>2</td>\n",
              "      <td>5.0</td>\n",
              "      <td>5.0</td>\n",
              "      <td>2.0</td>\n",
              "    </tr>\n",
              "    <tr>\n",
              "      <th>3</th>\n",
              "      <td>61621</td>\n",
              "      <td>4.0</td>\n",
              "      <td>4.0</td>\n",
              "      <td>6.0</td>\n",
              "      <td>5.0</td>\n",
              "      <td>5.0</td>\n",
              "      <td>4.0</td>\n",
              "      <td>4.0</td>\n",
              "      <td>3.0</td>\n",
              "      <td>5.0</td>\n",
              "      <td>5.0</td>\n",
              "      <td>5.0</td>\n",
              "      <td>3.0</td>\n",
              "      <td>4.0</td>\n",
              "      <td>4.0</td>\n",
              "      <td>4.0</td>\n",
              "      <td>2.0</td>\n",
              "      <td>5.0</td>\n",
              "      <td>2.0</td>\n",
              "      <td>4.0</td>\n",
              "      <td>1.0</td>\n",
              "      <td>3.0</td>\n",
              "      <td>3</td>\n",
              "      <td>4.0</td>\n",
              "      <td>3.0</td>\n",
              "      <td>5.0</td>\n",
              "    </tr>\n",
              "    <tr>\n",
              "      <th>4</th>\n",
              "      <td>61622</td>\n",
              "      <td>2.0</td>\n",
              "      <td>3.0</td>\n",
              "      <td>3.0</td>\n",
              "      <td>4.0</td>\n",
              "      <td>5.0</td>\n",
              "      <td>4.0</td>\n",
              "      <td>4.0</td>\n",
              "      <td>5.0</td>\n",
              "      <td>3.0</td>\n",
              "      <td>2.0</td>\n",
              "      <td>2.0</td>\n",
              "      <td>2.0</td>\n",
              "      <td>5.0</td>\n",
              "      <td>4.0</td>\n",
              "      <td>5.0</td>\n",
              "      <td>2.0</td>\n",
              "      <td>3.0</td>\n",
              "      <td>4.0</td>\n",
              "      <td>4.0</td>\n",
              "      <td>3.0</td>\n",
              "      <td>3.0</td>\n",
              "      <td>3</td>\n",
              "      <td>4.0</td>\n",
              "      <td>3.0</td>\n",
              "      <td>3.0</td>\n",
              "    </tr>\n",
              "  </tbody>\n",
              "</table>\n",
              "</div>"
            ],
            "text/plain": [
              "   Unnamed: 0   A1   A2   A3   A4   A5   C1  ...   N4   N5   O1  O2   O3   O4   O5\n",
              "0       61617  2.0  4.0  3.0  4.0  4.0  2.0  ...  2.0  3.0  3.0   6  3.0  4.0  3.0\n",
              "1       61618  2.0  4.0  5.0  2.0  5.0  5.0  ...  5.0  5.0  4.0   2  4.0  3.0  3.0\n",
              "2       61620  5.0  4.0  5.0  4.0  4.0  4.0  ...  2.0  3.0  4.0   2  5.0  5.0  2.0\n",
              "3       61621  4.0  4.0  6.0  5.0  5.0  4.0  ...  4.0  1.0  3.0   3  4.0  3.0  5.0\n",
              "4       61622  2.0  3.0  3.0  4.0  5.0  4.0  ...  4.0  3.0  3.0   3  4.0  3.0  3.0\n",
              "\n",
              "[5 rows x 26 columns]"
            ]
          },
          "metadata": {},
          "execution_count": 8
        }
      ]
    },
    {
      "cell_type": "code",
      "metadata": {
        "colab": {
          "base_uri": "https://localhost:8080/"
        },
        "id": "mfDLFwJ7xUSz",
        "outputId": "43c1c2e2-b1ea-40c7-c399-f85c3cb9d903"
      },
      "source": [
        "from factor_analyzer.factor_analyzer import calculate_bartlett_sphericity\n",
        "chi_square_value,p_value=calculate_bartlett_sphericity(df)\n",
        "chi_square_value, p_value"
      ],
      "execution_count": null,
      "outputs": [
        {
          "output_type": "execute_result",
          "data": {
            "text/plain": [
              "(18210.199553924962, 0.0)"
            ]
          },
          "metadata": {},
          "execution_count": 9
        }
      ]
    },
    {
      "cell_type": "code",
      "metadata": {
        "id": "7xtPREjYxWyD"
      },
      "source": [
        "from factor_analyzer.factor_analyzer import calculate_kmo\n",
        "kmo_all,kmo_model=calculate_kmo(df)"
      ],
      "execution_count": null,
      "outputs": []
    },
    {
      "cell_type": "code",
      "metadata": {
        "colab": {
          "base_uri": "https://localhost:8080/"
        },
        "id": "8UTcA8fJxZu9",
        "outputId": "3b270559-4051-4078-b760-23c75c0ad9ac"
      },
      "source": [
        "kmo_model"
      ],
      "execution_count": null,
      "outputs": [
        {
          "output_type": "execute_result",
          "data": {
            "text/plain": [
              "0.8482210116350438"
            ]
          },
          "metadata": {},
          "execution_count": 11
        }
      ]
    },
    {
      "cell_type": "code",
      "metadata": {
        "colab": {
          "base_uri": "https://localhost:8080/"
        },
        "id": "Sw47NQztxbOK",
        "outputId": "11abce01-2bd8-47f8-d02b-6d3c74663897"
      },
      "source": [
        "# Create factor analysis object and perform factor analysis\n",
        "fa = FactorAnalyzer()\n",
        "fa.fit(df)\n",
        "eigen_values, vectors = fa.get_eigenvalues()\n",
        "eigen_values"
      ],
      "execution_count": null,
      "outputs": [
        {
          "output_type": "execute_result",
          "data": {
            "text/plain": [
              "array([5.13457985, 2.75337527, 2.14814212, 1.85250623, 1.54846254,\n",
              "       1.11066151, 0.98067695, 0.82430872, 0.79516217, 0.71828982,\n",
              "       0.68602566, 0.67614851, 0.65177562, 0.62297416, 0.59623084,\n",
              "       0.56244599, 0.54329886, 0.51434031, 0.49437154, 0.48263949,\n",
              "       0.44865495, 0.42280589, 0.40028481, 0.38773757, 0.38183723,\n",
              "       0.2622634 ])"
            ]
          },
          "metadata": {},
          "execution_count": 12
        }
      ]
    },
    {
      "cell_type": "code",
      "metadata": {
        "colab": {
          "base_uri": "https://localhost:8080/",
          "height": 295
        },
        "id": "wSZ2RAcexeSZ",
        "outputId": "d4f70161-34c3-400f-de46-aeca741eecf9"
      },
      "source": [
        "# Create scree plot using matplotlib\n",
        "plt.scatter(range(1,df.shape[1]+1),eigen_values)\n",
        "plt.plot(range(1,df.shape[1]+1),eigen_values)\n",
        "plt.title('Scree Plot')\n",
        "plt.xlabel('Factors')\n",
        "plt.ylabel('Eigenvalue')\n",
        "plt.grid()\n",
        "plt.show()"
      ],
      "execution_count": null,
      "outputs": [
        {
          "output_type": "display_data",
          "data": {
            "image/png": "[encoded data removed]",
            "text/plain": [
              "<Figure size 432x288 with 1 Axes>"
            ]
          },
          "metadata": {
            "needs_background": "light"
          }
        }
      ]
    },
    {
      "cell_type": "code",
      "metadata": {
        "colab": {
          "base_uri": "https://localhost:8080/"
        },
        "id": "-eH5e55Mxha-",
        "outputId": "102d5882-c79a-4ba2-bd8d-86092db488cd"
      },
      "source": [
        "# Create factor analysis object and perform factor analysis\n",
        "fa = FactorAnalyzer()\n",
        "fa.set_params(n_factors=6, rotation=\"varimax\")\n",
        "fa.fit(df)\n",
        "fa.loadings_"
      ],
      "execution_count": null,
      "outputs": [
        {
          "output_type": "execute_result",
          "data": {
            "text/plain": [
              "array([[-0.02290301, -0.03247244,  0.03316871, -0.03809335,  0.00379506,\n",
              "         0.10374847],\n",
              "       [ 0.09939617,  0.06047379,  0.02669442, -0.53078469, -0.12030937,\n",
              "         0.16363839],\n",
              "       [ 0.03176731,  0.259875  ,  0.1402256 ,  0.64656947,  0.05577021,\n",
              "        -0.09704963],\n",
              "       [-0.00525556,  0.40884856,  0.10953353,  0.5870038 ,  0.01618433,\n",
              "         0.03914857],\n",
              "       [-0.07926603,  0.25534236,  0.22930808,  0.39176034, -0.13629258,\n",
              "         0.03340065],\n",
              "       [-0.14364476,  0.4910488 ,  0.0856494 ,  0.45108989,  0.00911123,\n",
              "         0.10588827],\n",
              "       [ 0.00562295,  0.12364715,  0.54015018,  0.00422137,  0.18345833,\n",
              "         0.13879816],\n",
              "       [ 0.08435816,  0.10650466,  0.65249593,  0.05653766,  0.0792028 ,\n",
              "         0.20858043],\n",
              "       [-0.03394649,  0.0497959 ,  0.54587749,  0.10028627, -0.0123717 ,\n",
              "         0.05447959],\n",
              "       [ 0.23161662,  0.0089893 , -0.67278539, -0.08998026, -0.15345088,\n",
              "         0.22697702],\n",
              "       [ 0.29340234, -0.1436436 , -0.55970426, -0.04706994,  0.0256143 ,\n",
              "         0.09577898],\n",
              "       [ 0.05310218, -0.52147723,  0.02649197, -0.09054497, -0.05928098,\n",
              "         0.33201867],\n",
              "       [ 0.2631889 , -0.62292324, -0.11075758, -0.07455019, -0.03044005,\n",
              "         0.29120361],\n",
              "       [ 0.00119   ,  0.63056485,  0.07741736,  0.15388275,  0.21421252,\n",
              "         0.09215221],\n",
              "       [-0.14723885,  0.68281775,  0.10390412,  0.2065131 , -0.13327166,\n",
              "        -0.03773659],\n",
              "       [ 0.02197833,  0.50438366,  0.31238313,  0.04844782,  0.18521833,\n",
              "        -0.11350852],\n",
              "       [ 0.79096653,  0.033469  , -0.04001445, -0.19151604, -0.07737848,\n",
              "        -0.16815916],\n",
              "       [ 0.77708495, -0.01765921, -0.02173671, -0.15558624,  0.00764293,\n",
              "        -0.19939099],\n",
              "       [ 0.72818732, -0.03614561, -0.0674602 , -0.02313414, -0.01532483,\n",
              "         0.02192578],\n",
              "       [ 0.59778566, -0.2770728 , -0.1837043 ,  0.01861508,  0.06451108,\n",
              "         0.18288879],\n",
              "       [ 0.53479082, -0.11293748, -0.04097176,  0.09644977, -0.1645811 ,\n",
              "         0.11185692],\n",
              "       [-0.00891931,  0.3023176 ,  0.10733112, -0.00134206,  0.46434464,\n",
              "         0.16741623],\n",
              "       [ 0.16146455,  0.02029611, -0.10051682,  0.04691938, -0.50064301,\n",
              "         0.08416413],\n",
              "       [ 0.0196248 ,  0.40211954,  0.07042896,  0.06363394,  0.54784203,\n",
              "         0.12081642],\n",
              "       [ 0.22872114, -0.0926477 , -0.03000306,  0.14801512,  0.34628284,\n",
              "         0.20228617],\n",
              "       [ 0.06801994,  0.00091956, -0.06223948, -0.05313796, -0.57993276,\n",
              "         0.10662123]])"
            ]
          },
          "metadata": {},
          "execution_count": 16
        }
      ]
    },
    {
      "cell_type": "code",
      "metadata": {
        "colab": {
          "base_uri": "https://localhost:8080/"
        },
        "id": "J_yZV8Pix0tP",
        "outputId": "41449679-5b07-44d3-a6d5-682bf33af29a"
      },
      "source": [
        "# Create factor analysis object and perform factor analysis\n",
        "fa = FactorAnalyzer()\n",
        "fa.set_params(n_factors=5, rotation=\"varimax\")\n",
        "fa.fit(df)\n",
        "fa.loadings_"
      ],
      "execution_count": null,
      "outputs": [
        {
          "output_type": "execute_result",
          "data": {
            "text/plain": [
              "array([[-0.01924556, -0.06170286,  0.03486479, -0.01867751,  0.0143449 ],\n",
              "       [ 0.1064546 ,  0.0307053 ,  0.02756748, -0.42961248, -0.07413314],\n",
              "       [ 0.02869339,  0.22712712,  0.14115892,  0.62180104,  0.0641174 ],\n",
              "       [ 0.0053354 ,  0.32992706,  0.11592822,  0.64285597,  0.06164725],\n",
              "       [-0.06944324,  0.2092169 ,  0.23541803,  0.43124101, -0.10864741],\n",
              "       [-0.12900241,  0.39769   ,  0.09790092,  0.52815947,  0.0753634 ],\n",
              "       [ 0.00954751,  0.04829695,  0.54827569,  0.04119434,  0.21216878],\n",
              "       [ 0.08997526,  0.01445863,  0.65030388,  0.10569283,  0.11658219],\n",
              "       [-0.03024319,  0.01082522,  0.55578126,  0.11416497, -0.00481157],\n",
              "       [ 0.24079401, -0.03932582, -0.63357583, -0.04146169, -0.1096952 ],\n",
              "       [ 0.29433007, -0.15417946, -0.56699105, -0.04785845,  0.03126425],\n",
              "       [ 0.05706633, -0.57646013,  0.01718243, -0.08965973, -0.07321838],\n",
              "       [ 0.2616608 , -0.67156053, -0.12149036, -0.09678777, -0.05968008],\n",
              "       [ 0.01241719,  0.53305616,  0.09762393,  0.24574113,  0.29388278],\n",
              "       [-0.13102573,  0.64875004,  0.12049501,  0.29006878, -0.05698468],\n",
              "       [ 0.02432691,  0.49253433,  0.32663881,  0.079579  ,  0.2265375 ],\n",
              "       [ 0.78272568,  0.09767984, -0.04238834, -0.22505965, -0.0834706 ],\n",
              "       [ 0.7524199 ,  0.04493477, -0.02954695, -0.20053909, -0.01094506],\n",
              "       [ 0.73257145, -0.04106614, -0.06834851, -0.03184851, -0.0072839 ],\n",
              "       [ 0.59963482, -0.32610163, -0.18899936,  0.01019068,  0.06465926],\n",
              "       [ 0.54204286, -0.13932631, -0.0420651 ,  0.10022913, -0.15565295],\n",
              "       [-0.00609419,  0.19646268,  0.12086297,  0.05957344,  0.51064181],\n",
              "       [ 0.1747347 ,  0.02676212, -0.09912926,  0.07736822, -0.46963751],\n",
              "       [ 0.02110565,  0.29624284,  0.08470956,  0.12236933,  0.60357183],\n",
              "       [ 0.22782642, -0.18928948, -0.02935289,  0.16078712,  0.3622553 ],\n",
              "       [ 0.08361937,  0.0115903 , -0.06135691, -0.01397359, -0.53340144]])"
            ]
          },
          "metadata": {},
          "execution_count": 18
        }
      ]
    },
    {
      "cell_type": "code",
      "metadata": {
        "colab": {
          "base_uri": "https://localhost:8080/"
        },
        "id": "rFZJ5xBAx9be",
        "outputId": "6bfc8689-5b95-44bf-87b1-725aa5059c04"
      },
      "source": [
        "# Get variance of each factors\n",
        "fa.get_factor_variance()"
      ],
      "execution_count": null,
      "outputs": [
        {
          "output_type": "execute_result",
          "data": {
            "text/plain": [
              "(array([2.73610909, 2.42804921, 2.08250384, 1.80050522, 1.54950194]),\n",
              " array([0.10523496, 0.09338651, 0.0800963 , 0.0692502 , 0.05959623]),\n",
              " array([0.10523496, 0.19862147, 0.27871777, 0.34796798, 0.4075642 ]))"
            ]
          },
          "metadata": {},
          "execution_count": 19
        }
      ]
    },
    {
      "cell_type": "code",
      "metadata": {
        "id": "5KmRNa0wyKbB"
      },
      "source": [
        ""
      ],
      "execution_count": null,
      "outputs": []
    },
    {
      "cell_type": "code",
      "metadata": {
        "id": "Zq2InE6HJtpt"
      },
      "source": [
        "from google.colab import drive\n",
        "drive.mount('/content/drive')"
      ],
      "execution_count": null,
      "outputs": []
    }
  ]
}